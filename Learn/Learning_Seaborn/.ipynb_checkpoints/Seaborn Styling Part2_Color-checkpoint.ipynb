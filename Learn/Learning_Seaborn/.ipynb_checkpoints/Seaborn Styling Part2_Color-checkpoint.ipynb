{
 "cells": [
  {
   "cell_type": "markdown",
   "metadata": {},
   "source": [
    "# Seaborn Styling, Part2: Color\n",
    "## Introduction\n",
    "When creating a data visualization, your goal is to communicate the insights found in the data. While visualizing communicates important information, styling will influence how your audience understands what you’re trying to convey.\n",
    "\n",
    "After you have formatted and visualized your data, the third and last step of data visualization is styling. Styling is the process of customizing the overall look of your visualization, or figure. Making intentional decisions about the details of the visualization will increase their impact and set your work apart.\n",
    "\n",
    "We’ll look at how we can effectively use color to convey meaning. We’ll cover:\n",
    "- How to set a palette\n",
    "- Seaborn default and built-in color palettes\n",
    "- Color Brewer Palettes\n",
    "- Selecting palettes for your dataset\n",
    "\n",
    "## Commands for Working with Palettes\n",
    "You can build color palettes using the function `sns.color_palette()`. This function can take any of the Seaborn built-in palettes (see below). You can also build your own palettes by passing in a list of colors in any valid Matplotlib format, including RGB tuples, hex color codes, or HTML color names.\n",
    "\n",
    "If you want to quickly see what a palette looks like, use the function sns.palplot() to plot a palette as an array of colors:"
   ]
  },
  {
   "cell_type": "code",
   "execution_count": null,
   "metadata": {},
   "outputs": [],
   "source": []
  },
  {
   "cell_type": "code",
   "execution_count": null,
   "metadata": {},
   "outputs": [],
   "source": []
  }
 ],
 "metadata": {
  "kernelspec": {
   "display_name": "Python 3",
   "language": "python",
   "name": "python3"
  },
  "language_info": {
   "codemirror_mode": {
    "name": "ipython",
    "version": 3
   },
   "file_extension": ".py",
   "mimetype": "text/x-python",
   "name": "python",
   "nbconvert_exporter": "python",
   "pygments_lexer": "ipython3",
   "version": "3.7.6"
  }
 },
 "nbformat": 4,
 "nbformat_minor": 4
}
